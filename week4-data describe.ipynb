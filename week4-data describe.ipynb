{
    "cells": [
        {
            "cell_type": "markdown",
            "metadata": {
                "collapsed": true
            },
            "source": "# Week 4 : assignment"
        },
        {
            "cell_type": "markdown",
            "metadata": {},
            "source": "**The Battle of Neighborhoods | Data Description**"
        },
        {
            "cell_type": "markdown",
            "metadata": {},
            "source": "\nData Description:\n\nData Link: https://en.wikipedia.org/wiki/List_of_postal_codes_of_Canada:_M\n\nWill use Scarborough dataset which we scrapped from wikipedia on Week 3. Dataset consisting of latitude and longitude, zip codes."
        },
        {
            "cell_type": "markdown",
            "metadata": {},
            "source": "*Problem Which Tried to Solve:*"
        },
        {
            "cell_type": "markdown",
            "metadata": {},
            "source": "The major purpose of this project, is to suggest a better neighborhood in a new city for the person who are shiffting there. Social presence in society in terms of like minded people. Connectivity to the airport, bus stand, city center, markets and other daily needs things nearby.\n\n    Sorted list of house in terms of housing prices in a ascending or descending order\n    Sorted list of schools in terms of location, fees, rating and reviews\n"
        },
        {
            "cell_type": "markdown",
            "metadata": {},
            "source": "The Location:\n\nScarborough is a popular destination for new immigrants in Canada to reside. As a result, it is one of the most diverse and multicultural areas in the Greater Toronto Area, being home to various religious groups and places of worship. Although immigration has become a hot topic over the past few years with more governments seeking more restrictions on immigrants and refugees, the general trend of immigration into Canada has been one of on the rise."
        },
        {
            "cell_type": "code",
            "execution_count": null,
            "metadata": {},
            "outputs": [],
            "source": ""
        },
        {
            "cell_type": "markdown",
            "metadata": {},
            "source": "**Foursquare API Data:**"
        },
        {
            "cell_type": "markdown",
            "metadata": {},
            "source": "We will need data about different venues in different neighborhoods of that specific borough. In order to gain that information we will use \"Foursquare\" locational information. Foursquare is a location data provider with information about all manner of venues and events within an area of interest. Such information includes venue names, locations, menus and even photos. As such, the foursquare location platform will be used as the sole data source since all the stated required information can be obtained through the API.\n\nAfter finding the list of neighborhoods, we then connect to the Foursquare API to gather information about venues inside each and every neighborhood. For each neighborhood, we have chosen the radius to be 100 meter.\n\nThe data retrieved from Foursquare contained information of venues within a specified distance of the longitude and latitude of the postcodes. The information obtained per venue as follows:\n\n1. Neighborhood\n2. Neighborhood Latitude\n3. Neighborhood Longitude\n4. Venue\n5. Name of the venue e.g. the name of a store or restaurant\n6. Venue Latitude\n7. Venue Longitude\n8. Venue Category"
        },
        {
            "cell_type": "markdown",
            "metadata": {},
            "source": "Work Flow:\n\nUsing credentials of Foursquare API features of near-by places of the neighborhoods would be mined. Due to http request limitations the number of places per neighborhood parameter would reasonably be set to 100 and the radius parameter would be set to 500."
        },
        {
            "cell_type": "markdown",
            "metadata": {},
            "source": "Libraries Which are Used to Develope the Project:\n\nPandas: For creating and manipulating dataframes.\n\nFolium: Python visualization library would be used to visualize the neighborhoods cluster distribution of using interactive leaflet map.\n\nScikit Learn: For importing k-means clustering.\n\nJSON: Library to handle JSON files.\n\nXML: To separate data from presentation and XML stores data in plain text format.\n\nGeocoder: To retrieve Location Data.\n\nBeautiful Soup and Requests: To scrap and library to handle http requests.\n\nMatplotlib: Python Plotting Module."
        },
        {
            "cell_type": "code",
            "execution_count": null,
            "metadata": {},
            "outputs": [],
            "source": ""
        }
    ],
    "metadata": {
        "kernelspec": {
            "display_name": "Python 3.6",
            "language": "python",
            "name": "python3"
        },
        "language_info": {
            "codemirror_mode": {
                "name": "ipython",
                "version": 3
            },
            "file_extension": ".py",
            "mimetype": "text/x-python",
            "name": "python",
            "nbconvert_exporter": "python",
            "pygments_lexer": "ipython3",
            "version": "3.6.9"
        }
    },
    "nbformat": 4,
    "nbformat_minor": 1
}